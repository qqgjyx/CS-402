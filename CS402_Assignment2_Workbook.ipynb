## Status: Waiting for Assignment Questions

**Current Issue:** The Assignment 2 PDF file is not accessible in a readable format. 

**Next Steps:** Please provide the specific questions from Assignment 2 either by:
1. Copy-pasting the text directly, or
2. Describing the questions and what they're asking

**Based on previous conversation context, expecting questions about:**
- Q2a: Heuristic properties (consistent and admissible)
- Game tree algorithms (minimax, alpha-beta pruning)
- Adversarial search strategies# CS 402 Assignment 2 - Game Tree Algorithms

## Status: Waiting for Assignment Questions

**Current Issue:** The Assignment 2 PDF file is not accessible in a readable format. 

**Next Steps:** Please provide the specific questions from Assignment 2 either by:
1. Copy-pasting the text directly, or  
2. Describing the questions and what they're asking

**Based on previous conversation context, expecting questions about:**
- Q2a: Heuristic properties (consistent and admissible)
- Game tree algorithms (minimax, alpha-beta pruning)
- Adversarial search strategies

**Expected Topics:**
- Minimax algorithm
- Alpha-beta pruning  
- Game tree evaluation
- Heuristic properties in adversarial search
- Search depth and evaluation functions